{
 "cells": [
  {
   "cell_type": "markdown",
   "metadata": {},
   "source": [
    "# **Очистка и подготовка датасета с вакансиями**"
   ]
  },
  {
   "cell_type": "markdown",
   "metadata": {},
   "source": [
    "---"
   ]
  },
  {
   "cell_type": "markdown",
   "metadata": {},
   "source": [
    "## **1. Загрузка файла и датасета**"
   ]
  },
  {
   "cell_type": "markdown",
   "metadata": {},
   "source": [
    "**Загружаем файл с данными в переменную `ds0` и копируем в `ds`**"
   ]
  },
  {
   "cell_type": "code",
   "execution_count": 1,
   "metadata": {},
   "outputs": [],
   "source": [
    "!pip install -q openpyxl"
   ]
  },
  {
   "cell_type": "code",
   "execution_count": 2,
   "metadata": {},
   "outputs": [],
   "source": [
    "import pandas as pd\n",
    "from numpy import NaN\n",
    "import json"
   ]
  },
  {
   "cell_type": "code",
   "execution_count": 3,
   "metadata": {},
   "outputs": [],
   "source": [
    "# настройки вывода\n",
    "pd.set_option('display.max_rows', 50)\n",
    "pd.set_option('display.max_columns', 60)"
   ]
  },
  {
   "cell_type": "code",
   "execution_count": 4,
   "metadata": {},
   "outputs": [],
   "source": [
    "# загрузка датасета\n",
    "ds0 = pd.read_excel('result roles (16.06.2022).xlsx')"
   ]
  },
  {
   "cell_type": "code",
   "execution_count": 5,
   "metadata": {},
   "outputs": [],
   "source": [
    "# загрузка датасета из Excel занимает почти минуту, а создание копии в пандас - секунду\n",
    "# если что-то пойдёт не так, можно быстро восстановить исходный датасет из ds0, выполнив эту строку\n",
    "ds = ds0.copy()"
   ]
  },
  {
   "cell_type": "code",
   "execution_count": 6,
   "metadata": {},
   "outputs": [
    {
     "name": "stdout",
     "output_type": "stream",
     "text": [
      "<class 'pandas.core.frame.DataFrame'>\n",
      "RangeIndex: 76382 entries, 0 to 76381\n",
      "Data columns (total 51 columns):\n",
      " #   Column                    Non-Null Count  Dtype \n",
      "---  ------                    --------------  ----- \n",
      " 0   Unnamed: 0                76382 non-null  int64 \n",
      " 1   id                        76382 non-null  int64 \n",
      " 2   premium                   76382 non-null  bool  \n",
      " 3   name                      76382 non-null  object\n",
      " 4   department                4902 non-null   object\n",
      " 5   has_test                  76380 non-null  object\n",
      " 6   response_letter_required  76382 non-null  object\n",
      " 7   area                      76381 non-null  object\n",
      " 8   salary                    40874 non-null  object\n",
      " 9   type                      76379 non-null  object\n",
      " 10  published_at              76380 non-null  object\n",
      " 11  created_at                76381 non-null  object\n",
      " 12  archived                  76380 non-null  object\n",
      " 13  insider_interview         570 non-null    object\n",
      " 14  url                       76380 non-null  object\n",
      " 15  alternate_url             76382 non-null  object\n",
      " 16  relations                 76381 non-null  object\n",
      " 17  employer                  76382 non-null  object\n",
      " 18  snippet                   76381 non-null  object\n",
      " 19  schedule                  76381 non-null  object\n",
      " 20  working_days              76381 non-null  object\n",
      " 21  working_time_intervals    76382 non-null  object\n",
      " 22  working_time_modes        76382 non-null  object\n",
      " 23  accept_temporary          76381 non-null  object\n",
      " 24  description               76382 non-null  object\n",
      " 25  experience                76382 non-null  object\n",
      " 26  key_skills                76381 non-null  object\n",
      " 27  specializations           76382 non-null  object\n",
      " 28  region                    76382 non-null  object\n",
      " 29  Unnamed: 29               354 non-null    object\n",
      " 30  Unnamed: 30               335 non-null    object\n",
      " 31  Unnamed: 31               261 non-null    object\n",
      " 32  Unnamed: 32               235 non-null    object\n",
      " 33  Unnamed: 33               216 non-null    object\n",
      " 34  Unnamed: 34               177 non-null    object\n",
      " 35  Unnamed: 35               157 non-null    object\n",
      " 36  Unnamed: 36               134 non-null    object\n",
      " 37  Unnamed: 37               113 non-null    object\n",
      " 38  Unnamed: 38               83 non-null     object\n",
      " 39  Unnamed: 39               63 non-null     object\n",
      " 40  Unnamed: 40               52 non-null     object\n",
      " 41  Unnamed: 41               37 non-null     object\n",
      " 42  Unnamed: 42               28 non-null     object\n",
      " 43  Unnamed: 43               21 non-null     object\n",
      " 44  Unnamed: 44               15 non-null     object\n",
      " 45  Unnamed: 45               9 non-null      object\n",
      " 46  Unnamed: 46               6 non-null      object\n",
      " 47  Unnamed: 47               2 non-null      object\n",
      " 48  Unnamed: 48               1 non-null      object\n",
      " 49  Unnamed: 49               1 non-null      object\n",
      " 50  Unnamed: 50               1 non-null      object\n",
      "dtypes: bool(1), int64(2), object(48)\n",
      "memory usage: 29.2+ MB\n"
     ]
    }
   ],
   "source": [
    "ds.info()"
   ]
  },
  {
   "cell_type": "code",
   "execution_count": 7,
   "metadata": {},
   "outputs": [
    {
     "data": {
      "text/html": [
       "<div>\n",
       "<style scoped>\n",
       "    .dataframe tbody tr th:only-of-type {\n",
       "        vertical-align: middle;\n",
       "    }\n",
       "\n",
       "    .dataframe tbody tr th {\n",
       "        vertical-align: top;\n",
       "    }\n",
       "\n",
       "    .dataframe thead th {\n",
       "        text-align: right;\n",
       "    }\n",
       "</style>\n",
       "<table border=\"1\" class=\"dataframe\">\n",
       "  <thead>\n",
       "    <tr style=\"text-align: right;\">\n",
       "      <th></th>\n",
       "      <th>Unnamed: 0</th>\n",
       "      <th>id</th>\n",
       "      <th>premium</th>\n",
       "      <th>name</th>\n",
       "      <th>department</th>\n",
       "      <th>has_test</th>\n",
       "      <th>response_letter_required</th>\n",
       "      <th>area</th>\n",
       "      <th>salary</th>\n",
       "      <th>type</th>\n",
       "      <th>published_at</th>\n",
       "      <th>created_at</th>\n",
       "      <th>archived</th>\n",
       "      <th>insider_interview</th>\n",
       "      <th>url</th>\n",
       "      <th>alternate_url</th>\n",
       "      <th>relations</th>\n",
       "      <th>employer</th>\n",
       "      <th>snippet</th>\n",
       "      <th>schedule</th>\n",
       "      <th>working_days</th>\n",
       "      <th>working_time_intervals</th>\n",
       "      <th>working_time_modes</th>\n",
       "      <th>accept_temporary</th>\n",
       "      <th>description</th>\n",
       "      <th>experience</th>\n",
       "      <th>key_skills</th>\n",
       "      <th>specializations</th>\n",
       "      <th>region</th>\n",
       "      <th>Unnamed: 29</th>\n",
       "      <th>Unnamed: 30</th>\n",
       "      <th>Unnamed: 31</th>\n",
       "      <th>Unnamed: 32</th>\n",
       "      <th>Unnamed: 33</th>\n",
       "      <th>Unnamed: 34</th>\n",
       "      <th>Unnamed: 35</th>\n",
       "      <th>Unnamed: 36</th>\n",
       "      <th>Unnamed: 37</th>\n",
       "      <th>Unnamed: 38</th>\n",
       "      <th>Unnamed: 39</th>\n",
       "      <th>Unnamed: 40</th>\n",
       "      <th>Unnamed: 41</th>\n",
       "      <th>Unnamed: 42</th>\n",
       "      <th>Unnamed: 43</th>\n",
       "      <th>Unnamed: 44</th>\n",
       "      <th>Unnamed: 45</th>\n",
       "      <th>Unnamed: 46</th>\n",
       "      <th>Unnamed: 47</th>\n",
       "      <th>Unnamed: 48</th>\n",
       "      <th>Unnamed: 49</th>\n",
       "      <th>Unnamed: 50</th>\n",
       "    </tr>\n",
       "  </thead>\n",
       "  <tbody>\n",
       "    <tr>\n",
       "      <th>0</th>\n",
       "      <td>0</td>\n",
       "      <td>49059633</td>\n",
       "      <td>False</td>\n",
       "      <td>Младший специалист ручного тестирования</td>\n",
       "      <td>NaN</td>\n",
       "      <td>False</td>\n",
       "      <td>False</td>\n",
       "      <td>{'id': '15', 'name': 'Астрахань', 'url': 'http...</td>\n",
       "      <td>NaN</td>\n",
       "      <td>{'id': 'open', 'name': 'Открытая'}</td>\n",
       "      <td>2022-03-28T09:08:00+0300</td>\n",
       "      <td>2022-03-28T09:08:00+0300</td>\n",
       "      <td>False</td>\n",
       "      <td>NaN</td>\n",
       "      <td>https://api.hh.ru/vacancies/49059633?host=hh.ru</td>\n",
       "      <td>https://hh.ru/vacancy/49059633</td>\n",
       "      <td>[]</td>\n",
       "      <td>{'id': '1740', 'name': 'Яндекс', 'url': 'https...</td>\n",
       "      <td>{'requirement': 'Внимательны и наблюдательны. ...</td>\n",
       "      <td>{'id': 'remote', 'name': 'Удаленная работа'}</td>\n",
       "      <td>[]</td>\n",
       "      <td>[]</td>\n",
       "      <td>[]</td>\n",
       "      <td>False</td>\n",
       "      <td>&lt;p&gt;В некоторых проектах Яндексу помогают компа...</td>\n",
       "      <td>{'id': 'noExperience', 'name': 'Нет опыта'}</td>\n",
       "      <td>[]</td>\n",
       "      <td>[{'id': '1.172', 'name': 'Начальный уровень, М...</td>\n",
       "      <td>Астраханская область</td>\n",
       "      <td>NaN</td>\n",
       "      <td>NaN</td>\n",
       "      <td>NaN</td>\n",
       "      <td>NaN</td>\n",
       "      <td>NaN</td>\n",
       "      <td>NaN</td>\n",
       "      <td>NaN</td>\n",
       "      <td>NaN</td>\n",
       "      <td>NaN</td>\n",
       "      <td>NaN</td>\n",
       "      <td>NaN</td>\n",
       "      <td>NaN</td>\n",
       "      <td>NaN</td>\n",
       "      <td>NaN</td>\n",
       "      <td>NaN</td>\n",
       "      <td>NaN</td>\n",
       "      <td>NaN</td>\n",
       "      <td>NaN</td>\n",
       "      <td>NaN</td>\n",
       "      <td>NaN</td>\n",
       "      <td>NaN</td>\n",
       "      <td>NaN</td>\n",
       "    </tr>\n",
       "    <tr>\n",
       "      <th>1</th>\n",
       "      <td>1</td>\n",
       "      <td>54252278</td>\n",
       "      <td>False</td>\n",
       "      <td>Пентестер</td>\n",
       "      <td>NaN</td>\n",
       "      <td>False</td>\n",
       "      <td>False</td>\n",
       "      <td>{'id': '15', 'name': 'Астрахань', 'url': 'http...</td>\n",
       "      <td>NaN</td>\n",
       "      <td>{'id': 'open', 'name': 'Открытая'}</td>\n",
       "      <td>2022-04-01T08:52:06+0300</td>\n",
       "      <td>2022-04-01T08:52:06+0300</td>\n",
       "      <td>False</td>\n",
       "      <td>NaN</td>\n",
       "      <td>https://api.hh.ru/vacancies/54252278?host=hh.ru</td>\n",
       "      <td>https://hh.ru/vacancy/54252278</td>\n",
       "      <td>[]</td>\n",
       "      <td>{'id': '719820', 'name': 'SearchInform', 'url'...</td>\n",
       "      <td>{'requirement': 'Глубокие знания клиентских и ...</td>\n",
       "      <td>{'id': 'fullDay', 'name': 'Полный день'}</td>\n",
       "      <td>[]</td>\n",
       "      <td>[]</td>\n",
       "      <td>[]</td>\n",
       "      <td>False</td>\n",
       "      <td>&lt;p&gt;Лидер на рынке систем информационной безопа...</td>\n",
       "      <td>{'id': 'between3And6', 'name': 'От 3 до 6 лет'}</td>\n",
       "      <td>[{'name': 'SQL'}, {'name': 'Linux'}, {'name': ...</td>\n",
       "      <td>[{'id': '1.221', 'name': 'Программирование, Ра...</td>\n",
       "      <td>Астраханская область</td>\n",
       "      <td>NaN</td>\n",
       "      <td>NaN</td>\n",
       "      <td>NaN</td>\n",
       "      <td>NaN</td>\n",
       "      <td>NaN</td>\n",
       "      <td>NaN</td>\n",
       "      <td>NaN</td>\n",
       "      <td>NaN</td>\n",
       "      <td>NaN</td>\n",
       "      <td>NaN</td>\n",
       "      <td>NaN</td>\n",
       "      <td>NaN</td>\n",
       "      <td>NaN</td>\n",
       "      <td>NaN</td>\n",
       "      <td>NaN</td>\n",
       "      <td>NaN</td>\n",
       "      <td>NaN</td>\n",
       "      <td>NaN</td>\n",
       "      <td>NaN</td>\n",
       "      <td>NaN</td>\n",
       "      <td>NaN</td>\n",
       "      <td>NaN</td>\n",
       "    </tr>\n",
       "  </tbody>\n",
       "</table>\n",
       "</div>"
      ],
      "text/plain": [
       "   Unnamed: 0        id  premium                                     name  \\\n",
       "0           0  49059633    False  Младший специалист ручного тестирования   \n",
       "1           1  54252278    False                                Пентестер   \n",
       "\n",
       "  department has_test response_letter_required  \\\n",
       "0        NaN    False                    False   \n",
       "1        NaN    False                    False   \n",
       "\n",
       "                                                area salary  \\\n",
       "0  {'id': '15', 'name': 'Астрахань', 'url': 'http...    NaN   \n",
       "1  {'id': '15', 'name': 'Астрахань', 'url': 'http...    NaN   \n",
       "\n",
       "                                 type              published_at  \\\n",
       "0  {'id': 'open', 'name': 'Открытая'}  2022-03-28T09:08:00+0300   \n",
       "1  {'id': 'open', 'name': 'Открытая'}  2022-04-01T08:52:06+0300   \n",
       "\n",
       "                 created_at archived insider_interview  \\\n",
       "0  2022-03-28T09:08:00+0300    False               NaN   \n",
       "1  2022-04-01T08:52:06+0300    False               NaN   \n",
       "\n",
       "                                               url  \\\n",
       "0  https://api.hh.ru/vacancies/49059633?host=hh.ru   \n",
       "1  https://api.hh.ru/vacancies/54252278?host=hh.ru   \n",
       "\n",
       "                    alternate_url relations  \\\n",
       "0  https://hh.ru/vacancy/49059633        []   \n",
       "1  https://hh.ru/vacancy/54252278        []   \n",
       "\n",
       "                                            employer  \\\n",
       "0  {'id': '1740', 'name': 'Яндекс', 'url': 'https...   \n",
       "1  {'id': '719820', 'name': 'SearchInform', 'url'...   \n",
       "\n",
       "                                             snippet  \\\n",
       "0  {'requirement': 'Внимательны и наблюдательны. ...   \n",
       "1  {'requirement': 'Глубокие знания клиентских и ...   \n",
       "\n",
       "                                       schedule working_days  \\\n",
       "0  {'id': 'remote', 'name': 'Удаленная работа'}           []   \n",
       "1      {'id': 'fullDay', 'name': 'Полный день'}           []   \n",
       "\n",
       "  working_time_intervals working_time_modes accept_temporary  \\\n",
       "0                     []                 []            False   \n",
       "1                     []                 []            False   \n",
       "\n",
       "                                         description  \\\n",
       "0  <p>В некоторых проектах Яндексу помогают компа...   \n",
       "1  <p>Лидер на рынке систем информационной безопа...   \n",
       "\n",
       "                                        experience  \\\n",
       "0      {'id': 'noExperience', 'name': 'Нет опыта'}   \n",
       "1  {'id': 'between3And6', 'name': 'От 3 до 6 лет'}   \n",
       "\n",
       "                                          key_skills  \\\n",
       "0                                                 []   \n",
       "1  [{'name': 'SQL'}, {'name': 'Linux'}, {'name': ...   \n",
       "\n",
       "                                     specializations                region  \\\n",
       "0  [{'id': '1.172', 'name': 'Начальный уровень, М...  Астраханская область   \n",
       "1  [{'id': '1.221', 'name': 'Программирование, Ра...  Астраханская область   \n",
       "\n",
       "  Unnamed: 29 Unnamed: 30 Unnamed: 31 Unnamed: 32 Unnamed: 33 Unnamed: 34  \\\n",
       "0         NaN         NaN         NaN         NaN         NaN         NaN   \n",
       "1         NaN         NaN         NaN         NaN         NaN         NaN   \n",
       "\n",
       "  Unnamed: 35 Unnamed: 36 Unnamed: 37 Unnamed: 38 Unnamed: 39 Unnamed: 40  \\\n",
       "0         NaN         NaN         NaN         NaN         NaN         NaN   \n",
       "1         NaN         NaN         NaN         NaN         NaN         NaN   \n",
       "\n",
       "  Unnamed: 41 Unnamed: 42 Unnamed: 43 Unnamed: 44 Unnamed: 45 Unnamed: 46  \\\n",
       "0         NaN         NaN         NaN         NaN         NaN         NaN   \n",
       "1         NaN         NaN         NaN         NaN         NaN         NaN   \n",
       "\n",
       "  Unnamed: 47 Unnamed: 48 Unnamed: 49 Unnamed: 50  \n",
       "0         NaN         NaN         NaN         NaN  \n",
       "1         NaN         NaN         NaN         NaN  "
      ]
     },
     "execution_count": 7,
     "metadata": {},
     "output_type": "execute_result"
    }
   ],
   "source": [
    "ds.head(2)"
   ]
  },
  {
   "cell_type": "markdown",
   "metadata": {},
   "source": [
    "---"
   ]
  },
  {
   "cell_type": "markdown",
   "metadata": {},
   "source": [
    "## **2. Удаление аномальных записей, дубликатов, ненужных колонок**"
   ]
  },
  {
   "cell_type": "markdown",
   "metadata": {},
   "source": [
    "**Очистим датасет от \"аномальных\" записей (из 76382 записей - предположительно 354 шт, примерно 0.46%). Подробно процесс очистки описан в стажировке по разведочному анализу**"
   ]
  },
  {
   "cell_type": "code",
   "execution_count": 8,
   "metadata": {},
   "outputs": [],
   "source": [
    "# отфильтруем только записи, не выходящие за рамки 28-й колонки (т.е. для которых в колонке 29 - пусто)\n",
    "ds = ds[ds['Unnamed: 29'].isna()]\n",
    "\n",
    "# Теперь колонки с 29-й по 50-ю пустые и их тоже можно удалить\n",
    "ds = ds.drop(ds.columns[29:51], axis=1)"
   ]
  },
  {
   "cell_type": "markdown",
   "metadata": {},
   "source": [
    "**Самая первая колонка - несквозной индекс - порядковый номер вакансии в датасете в рамках каждого региона. Можем удалить**"
   ]
  },
  {
   "cell_type": "code",
   "execution_count": 9,
   "metadata": {},
   "outputs": [],
   "source": [
    "# Удалим индекс вакансий по регионам (колонка 'Unnamed: 0')\n",
    "ds = ds.drop('Unnamed: 0', axis=1)"
   ]
  },
  {
   "cell_type": "markdown",
   "metadata": {},
   "source": [
    "**Удалим дубликаты записей в датасете**"
   ]
  },
  {
   "cell_type": "code",
   "execution_count": 10,
   "metadata": {},
   "outputs": [
    {
     "name": "stdout",
     "output_type": "stream",
     "text": [
      "Было дубликатов: 34.   Стало: 0\n"
     ]
    }
   ],
   "source": [
    "# подсчёт количества дубликатов\n",
    "print('Было дубликатов:', ds.duplicated().sum(), end='.   ')\n",
    "ds = ds.drop_duplicates().reset_index(drop=True)\n",
    "print('Стало:', ds.duplicated().sum())"
   ]
  },
  {
   "cell_type": "markdown",
   "metadata": {},
   "source": [
    "**Удалим ненужные для анализа колонки**"
   ]
  },
  {
   "cell_type": "code",
   "execution_count": 11,
   "metadata": {},
   "outputs": [],
   "source": [
    "ds = ds.drop(columns=['premium', 'department', 'has_test', 'response_letter_required', 'type', \n",
    "                      'published_at', 'created_at', 'archived', 'insider_interview', 'url', \n",
    "                      'alternate_url', 'relations', 'snippet', 'working_days', 'working_time_intervals', \n",
    "                      'working_time_modes', 'accept_temporary', 'description'])"
   ]
  },
  {
   "cell_type": "code",
   "execution_count": 12,
   "metadata": {},
   "outputs": [
    {
     "name": "stdout",
     "output_type": "stream",
     "text": [
      "<class 'pandas.core.frame.DataFrame'>\n",
      "RangeIndex: 75994 entries, 0 to 75993\n",
      "Data columns (total 10 columns):\n",
      " #   Column           Non-Null Count  Dtype \n",
      "---  ------           --------------  ----- \n",
      " 0   id               75994 non-null  int64 \n",
      " 1   name             75994 non-null  object\n",
      " 2   area             75994 non-null  object\n",
      " 3   salary           40608 non-null  object\n",
      " 4   employer         75994 non-null  object\n",
      " 5   schedule         75994 non-null  object\n",
      " 6   experience       75994 non-null  object\n",
      " 7   key_skills       75994 non-null  object\n",
      " 8   specializations  75994 non-null  object\n",
      " 9   region           75994 non-null  object\n",
      "dtypes: int64(1), object(9)\n",
      "memory usage: 5.8+ MB\n"
     ]
    }
   ],
   "source": [
    "ds.info()"
   ]
  },
  {
   "cell_type": "code",
   "execution_count": 13,
   "metadata": {},
   "outputs": [
    {
     "data": {
      "text/html": [
       "<div>\n",
       "<style scoped>\n",
       "    .dataframe tbody tr th:only-of-type {\n",
       "        vertical-align: middle;\n",
       "    }\n",
       "\n",
       "    .dataframe tbody tr th {\n",
       "        vertical-align: top;\n",
       "    }\n",
       "\n",
       "    .dataframe thead th {\n",
       "        text-align: right;\n",
       "    }\n",
       "</style>\n",
       "<table border=\"1\" class=\"dataframe\">\n",
       "  <thead>\n",
       "    <tr style=\"text-align: right;\">\n",
       "      <th></th>\n",
       "      <th>id</th>\n",
       "      <th>name</th>\n",
       "      <th>area</th>\n",
       "      <th>salary</th>\n",
       "      <th>employer</th>\n",
       "      <th>schedule</th>\n",
       "      <th>experience</th>\n",
       "      <th>key_skills</th>\n",
       "      <th>specializations</th>\n",
       "      <th>region</th>\n",
       "    </tr>\n",
       "  </thead>\n",
       "  <tbody>\n",
       "    <tr>\n",
       "      <th>0</th>\n",
       "      <td>49059633</td>\n",
       "      <td>Младший специалист ручного тестирования</td>\n",
       "      <td>{'id': '15', 'name': 'Астрахань', 'url': 'http...</td>\n",
       "      <td>NaN</td>\n",
       "      <td>{'id': '1740', 'name': 'Яндекс', 'url': 'https...</td>\n",
       "      <td>{'id': 'remote', 'name': 'Удаленная работа'}</td>\n",
       "      <td>{'id': 'noExperience', 'name': 'Нет опыта'}</td>\n",
       "      <td>[]</td>\n",
       "      <td>[{'id': '1.172', 'name': 'Начальный уровень, М...</td>\n",
       "      <td>Астраханская область</td>\n",
       "    </tr>\n",
       "    <tr>\n",
       "      <th>1</th>\n",
       "      <td>54252278</td>\n",
       "      <td>Пентестер</td>\n",
       "      <td>{'id': '15', 'name': 'Астрахань', 'url': 'http...</td>\n",
       "      <td>NaN</td>\n",
       "      <td>{'id': '719820', 'name': 'SearchInform', 'url'...</td>\n",
       "      <td>{'id': 'fullDay', 'name': 'Полный день'}</td>\n",
       "      <td>{'id': 'between3And6', 'name': 'От 3 до 6 лет'}</td>\n",
       "      <td>[{'name': 'SQL'}, {'name': 'Linux'}, {'name': ...</td>\n",
       "      <td>[{'id': '1.221', 'name': 'Программирование, Ра...</td>\n",
       "      <td>Астраханская область</td>\n",
       "    </tr>\n",
       "  </tbody>\n",
       "</table>\n",
       "</div>"
      ],
      "text/plain": [
       "         id                                     name  \\\n",
       "0  49059633  Младший специалист ручного тестирования   \n",
       "1  54252278                                Пентестер   \n",
       "\n",
       "                                                area salary  \\\n",
       "0  {'id': '15', 'name': 'Астрахань', 'url': 'http...    NaN   \n",
       "1  {'id': '15', 'name': 'Астрахань', 'url': 'http...    NaN   \n",
       "\n",
       "                                            employer  \\\n",
       "0  {'id': '1740', 'name': 'Яндекс', 'url': 'https...   \n",
       "1  {'id': '719820', 'name': 'SearchInform', 'url'...   \n",
       "\n",
       "                                       schedule  \\\n",
       "0  {'id': 'remote', 'name': 'Удаленная работа'}   \n",
       "1      {'id': 'fullDay', 'name': 'Полный день'}   \n",
       "\n",
       "                                        experience  \\\n",
       "0      {'id': 'noExperience', 'name': 'Нет опыта'}   \n",
       "1  {'id': 'between3And6', 'name': 'От 3 до 6 лет'}   \n",
       "\n",
       "                                          key_skills  \\\n",
       "0                                                 []   \n",
       "1  [{'name': 'SQL'}, {'name': 'Linux'}, {'name': ...   \n",
       "\n",
       "                                     specializations                region  \n",
       "0  [{'id': '1.172', 'name': 'Начальный уровень, М...  Астраханская область  \n",
       "1  [{'id': '1.221', 'name': 'Программирование, Ра...  Астраханская область  "
      ]
     },
     "execution_count": 13,
     "metadata": {},
     "output_type": "execute_result"
    }
   ],
   "source": [
    "ds.head(2)"
   ]
  },
  {
   "cell_type": "markdown",
   "metadata": {},
   "source": [
    "---"
   ]
  },
  {
   "cell_type": "markdown",
   "metadata": {},
   "source": [
    "## **3. Обработка колонки `area`**"
   ]
  },
  {
   "cell_type": "code",
   "execution_count": 14,
   "metadata": {},
   "outputs": [
    {
     "data": {
      "text/plain": [
       "(\"{'id': '15', 'name': 'Астрахань', 'url': 'https://api.hh.ru/areas/15'}\",\n",
       " \"{'id': '68', 'name': 'Омск', 'url': 'https://api.hh.ru/areas/68'}\")"
      ]
     },
     "execution_count": 14,
     "metadata": {},
     "output_type": "execute_result"
    }
   ],
   "source": [
    "# выведем несколько записей: 1, 74377\n",
    "ds['area'][1], ds['area'][74377]"
   ]
  },
  {
   "cell_type": "code",
   "execution_count": 15,
   "metadata": {},
   "outputs": [],
   "source": [
    "# функция возвращает значения area по ключу name\n",
    "def get_city(area):\n",
    "    area = area.replace(\"'\", '\"')\n",
    "    return json.loads(area)['name']"
   ]
  },
  {
   "cell_type": "code",
   "execution_count": 16,
   "metadata": {},
   "outputs": [
    {
     "data": {
      "text/plain": [
       "('Астрахань', 'Омск')"
      ]
     },
     "execution_count": 16,
     "metadata": {},
     "output_type": "execute_result"
    }
   ],
   "source": [
    "# заменим колонку `area` на `city`\n",
    "ds['area'] = ds['area'].apply(get_city)\n",
    "ds.rename(columns={'area': 'city'}, inplace=True)\n",
    "\n",
    "# проверим работу функции, выведем, те же записи: 1, 74377\n",
    "ds['city'][1], ds['city'][74377]"
   ]
  },
  {
   "cell_type": "code",
   "execution_count": 17,
   "metadata": {},
   "outputs": [
    {
     "name": "stdout",
     "output_type": "stream",
     "text": [
      "<class 'pandas.core.frame.DataFrame'>\n",
      "RangeIndex: 75994 entries, 0 to 75993\n",
      "Data columns (total 10 columns):\n",
      " #   Column           Non-Null Count  Dtype \n",
      "---  ------           --------------  ----- \n",
      " 0   id               75994 non-null  int64 \n",
      " 1   name             75994 non-null  object\n",
      " 2   city             75994 non-null  object\n",
      " 3   salary           40608 non-null  object\n",
      " 4   employer         75994 non-null  object\n",
      " 5   schedule         75994 non-null  object\n",
      " 6   experience       75994 non-null  object\n",
      " 7   key_skills       75994 non-null  object\n",
      " 8   specializations  75994 non-null  object\n",
      " 9   region           75994 non-null  object\n",
      "dtypes: int64(1), object(9)\n",
      "memory usage: 5.8+ MB\n"
     ]
    }
   ],
   "source": [
    "ds.info()"
   ]
  },
  {
   "cell_type": "code",
   "execution_count": 18,
   "metadata": {},
   "outputs": [
    {
     "data": {
      "text/html": [
       "<div>\n",
       "<style scoped>\n",
       "    .dataframe tbody tr th:only-of-type {\n",
       "        vertical-align: middle;\n",
       "    }\n",
       "\n",
       "    .dataframe tbody tr th {\n",
       "        vertical-align: top;\n",
       "    }\n",
       "\n",
       "    .dataframe thead th {\n",
       "        text-align: right;\n",
       "    }\n",
       "</style>\n",
       "<table border=\"1\" class=\"dataframe\">\n",
       "  <thead>\n",
       "    <tr style=\"text-align: right;\">\n",
       "      <th></th>\n",
       "      <th>id</th>\n",
       "      <th>name</th>\n",
       "      <th>city</th>\n",
       "      <th>salary</th>\n",
       "      <th>employer</th>\n",
       "      <th>schedule</th>\n",
       "      <th>experience</th>\n",
       "      <th>key_skills</th>\n",
       "      <th>specializations</th>\n",
       "      <th>region</th>\n",
       "    </tr>\n",
       "  </thead>\n",
       "  <tbody>\n",
       "    <tr>\n",
       "      <th>0</th>\n",
       "      <td>49059633</td>\n",
       "      <td>Младший специалист ручного тестирования</td>\n",
       "      <td>Астрахань</td>\n",
       "      <td>NaN</td>\n",
       "      <td>{'id': '1740', 'name': 'Яндекс', 'url': 'https...</td>\n",
       "      <td>{'id': 'remote', 'name': 'Удаленная работа'}</td>\n",
       "      <td>{'id': 'noExperience', 'name': 'Нет опыта'}</td>\n",
       "      <td>[]</td>\n",
       "      <td>[{'id': '1.172', 'name': 'Начальный уровень, М...</td>\n",
       "      <td>Астраханская область</td>\n",
       "    </tr>\n",
       "    <tr>\n",
       "      <th>1</th>\n",
       "      <td>54252278</td>\n",
       "      <td>Пентестер</td>\n",
       "      <td>Астрахань</td>\n",
       "      <td>NaN</td>\n",
       "      <td>{'id': '719820', 'name': 'SearchInform', 'url'...</td>\n",
       "      <td>{'id': 'fullDay', 'name': 'Полный день'}</td>\n",
       "      <td>{'id': 'between3And6', 'name': 'От 3 до 6 лет'}</td>\n",
       "      <td>[{'name': 'SQL'}, {'name': 'Linux'}, {'name': ...</td>\n",
       "      <td>[{'id': '1.221', 'name': 'Программирование, Ра...</td>\n",
       "      <td>Астраханская область</td>\n",
       "    </tr>\n",
       "  </tbody>\n",
       "</table>\n",
       "</div>"
      ],
      "text/plain": [
       "         id                                     name       city salary  \\\n",
       "0  49059633  Младший специалист ручного тестирования  Астрахань    NaN   \n",
       "1  54252278                                Пентестер  Астрахань    NaN   \n",
       "\n",
       "                                            employer  \\\n",
       "0  {'id': '1740', 'name': 'Яндекс', 'url': 'https...   \n",
       "1  {'id': '719820', 'name': 'SearchInform', 'url'...   \n",
       "\n",
       "                                       schedule  \\\n",
       "0  {'id': 'remote', 'name': 'Удаленная работа'}   \n",
       "1      {'id': 'fullDay', 'name': 'Полный день'}   \n",
       "\n",
       "                                        experience  \\\n",
       "0      {'id': 'noExperience', 'name': 'Нет опыта'}   \n",
       "1  {'id': 'between3And6', 'name': 'От 3 до 6 лет'}   \n",
       "\n",
       "                                          key_skills  \\\n",
       "0                                                 []   \n",
       "1  [{'name': 'SQL'}, {'name': 'Linux'}, {'name': ...   \n",
       "\n",
       "                                     specializations                region  \n",
       "0  [{'id': '1.172', 'name': 'Начальный уровень, М...  Астраханская область  \n",
       "1  [{'id': '1.221', 'name': 'Программирование, Ра...  Астраханская область  "
      ]
     },
     "execution_count": 18,
     "metadata": {},
     "output_type": "execute_result"
    }
   ],
   "source": [
    "ds.head(2)"
   ]
  },
  {
   "cell_type": "markdown",
   "metadata": {},
   "source": [
    "---"
   ]
  },
  {
   "cell_type": "markdown",
   "metadata": {},
   "source": [
    "## **4. Обработка колонки `key_skills`**"
   ]
  },
  {
   "cell_type": "code",
   "execution_count": 19,
   "metadata": {},
   "outputs": [
    {
     "data": {
      "text/plain": [
       "(\"[{'name': 'SQL'}, {'name': 'Linux'}, {'name': 'Информационная безопасность'}, {'name': 'Работа с базами данных'}, {'name': 'Базы данных'}]\",\n",
       " '[]',\n",
       " \"[{'name': 'Git'}, {'name': 'SQL'}, {'name': 'Тестирование'}, {'name': 'C#'}, {'name': 'API'}]\",\n",
       " \"[{'name': 'Поиск и подбор помещения'}, {'name': 'Оценка недвижимости'}, {'name': 'Коммерческая недвижимость'}]\")"
      ]
     },
     "execution_count": 19,
     "metadata": {},
     "output_type": "execute_result"
    }
   ],
   "source": [
    "# выведем, например, записи: 1, 2, 4, 12\n",
    "ds['key_skills'][1], ds['key_skills'][2], ds['key_skills'][4], ds['key_skills'][12]"
   ]
  },
  {
   "cell_type": "code",
   "execution_count": 20,
   "metadata": {},
   "outputs": [],
   "source": [
    "# функция возвращает значения key_skills по ключу name, склеенные через символ `^`\n",
    "def get_skills(skills):\n",
    "    return skills[1:-1].replace(\"'}, {'name': '\", '^').replace(\"{'name': '\", '').replace(\"'}\", '')"
   ]
  },
  {
   "cell_type": "code",
   "execution_count": 21,
   "metadata": {},
   "outputs": [
    {
     "data": {
      "text/plain": [
       "('SQL^Linux^Информационная безопасность^Работа с базами данных^Базы данных',\n",
       " '',\n",
       " 'Git^SQL^Тестирование^C#^API',\n",
       " 'Поиск и подбор помещения^Оценка недвижимости^Коммерческая недвижимость')"
      ]
     },
     "execution_count": 21,
     "metadata": {},
     "output_type": "execute_result"
    }
   ],
   "source": [
    "# заменим колонку\n",
    "ds['key_skills'] = ds['key_skills'].apply(get_skills)\n",
    "\n",
    "# проверим работу функции, выведем, те же записи: 1, 2, 4, 12\n",
    "ds['key_skills'][1], ds['key_skills'][2], ds['key_skills'][4], ds['key_skills'][12]"
   ]
  },
  {
   "cell_type": "code",
   "execution_count": 22,
   "metadata": {},
   "outputs": [
    {
     "data": {
      "text/html": [
       "<div>\n",
       "<style scoped>\n",
       "    .dataframe tbody tr th:only-of-type {\n",
       "        vertical-align: middle;\n",
       "    }\n",
       "\n",
       "    .dataframe tbody tr th {\n",
       "        vertical-align: top;\n",
       "    }\n",
       "\n",
       "    .dataframe thead th {\n",
       "        text-align: right;\n",
       "    }\n",
       "</style>\n",
       "<table border=\"1\" class=\"dataframe\">\n",
       "  <thead>\n",
       "    <tr style=\"text-align: right;\">\n",
       "      <th></th>\n",
       "      <th>id</th>\n",
       "      <th>name</th>\n",
       "      <th>city</th>\n",
       "      <th>salary</th>\n",
       "      <th>employer</th>\n",
       "      <th>schedule</th>\n",
       "      <th>experience</th>\n",
       "      <th>key_skills</th>\n",
       "      <th>specializations</th>\n",
       "      <th>region</th>\n",
       "    </tr>\n",
       "  </thead>\n",
       "  <tbody>\n",
       "    <tr>\n",
       "      <th>0</th>\n",
       "      <td>49059633</td>\n",
       "      <td>Младший специалист ручного тестирования</td>\n",
       "      <td>Астрахань</td>\n",
       "      <td>NaN</td>\n",
       "      <td>{'id': '1740', 'name': 'Яндекс', 'url': 'https...</td>\n",
       "      <td>{'id': 'remote', 'name': 'Удаленная работа'}</td>\n",
       "      <td>{'id': 'noExperience', 'name': 'Нет опыта'}</td>\n",
       "      <td></td>\n",
       "      <td>[{'id': '1.172', 'name': 'Начальный уровень, М...</td>\n",
       "      <td>Астраханская область</td>\n",
       "    </tr>\n",
       "    <tr>\n",
       "      <th>1</th>\n",
       "      <td>54252278</td>\n",
       "      <td>Пентестер</td>\n",
       "      <td>Астрахань</td>\n",
       "      <td>NaN</td>\n",
       "      <td>{'id': '719820', 'name': 'SearchInform', 'url'...</td>\n",
       "      <td>{'id': 'fullDay', 'name': 'Полный день'}</td>\n",
       "      <td>{'id': 'between3And6', 'name': 'От 3 до 6 лет'}</td>\n",
       "      <td>SQL^Linux^Информационная безопасность^Работа с...</td>\n",
       "      <td>[{'id': '1.221', 'name': 'Программирование, Ра...</td>\n",
       "      <td>Астраханская область</td>\n",
       "    </tr>\n",
       "  </tbody>\n",
       "</table>\n",
       "</div>"
      ],
      "text/plain": [
       "         id                                     name       city salary  \\\n",
       "0  49059633  Младший специалист ручного тестирования  Астрахань    NaN   \n",
       "1  54252278                                Пентестер  Астрахань    NaN   \n",
       "\n",
       "                                            employer  \\\n",
       "0  {'id': '1740', 'name': 'Яндекс', 'url': 'https...   \n",
       "1  {'id': '719820', 'name': 'SearchInform', 'url'...   \n",
       "\n",
       "                                       schedule  \\\n",
       "0  {'id': 'remote', 'name': 'Удаленная работа'}   \n",
       "1      {'id': 'fullDay', 'name': 'Полный день'}   \n",
       "\n",
       "                                        experience  \\\n",
       "0      {'id': 'noExperience', 'name': 'Нет опыта'}   \n",
       "1  {'id': 'between3And6', 'name': 'От 3 до 6 лет'}   \n",
       "\n",
       "                                          key_skills  \\\n",
       "0                                                      \n",
       "1  SQL^Linux^Информационная безопасность^Работа с...   \n",
       "\n",
       "                                     specializations                region  \n",
       "0  [{'id': '1.172', 'name': 'Начальный уровень, М...  Астраханская область  \n",
       "1  [{'id': '1.221', 'name': 'Программирование, Ра...  Астраханская область  "
      ]
     },
     "execution_count": 22,
     "metadata": {},
     "output_type": "execute_result"
    }
   ],
   "source": [
    "ds.head(2)"
   ]
  },
  {
   "cell_type": "markdown",
   "metadata": {},
   "source": [
    "---"
   ]
  },
  {
   "cell_type": "markdown",
   "metadata": {},
   "source": [
    "## **5. Обработка колонки `specializations`**"
   ]
  },
  {
   "cell_type": "markdown",
   "metadata": {},
   "source": [
    "**Рассмотрим подробнее структуру записей в колонке:**"
   ]
  },
  {
   "cell_type": "code",
   "execution_count": 23,
   "metadata": {},
   "outputs": [
    {
     "data": {
      "text/plain": [
       "(\"[{'id': '1.172', 'name': 'Начальный уровень, Мало опыта', 'profarea_id': '1', 'profarea_name': 'Информационные технологии, интернет, телеком'}, {'id': '1.117', 'name': 'Тестирование', 'profarea_id': '1', 'profarea_name': 'Информационные технологии, интернет, телеком'}, {'id': '15.93', 'name': 'Информационные технологии, Интернет, Мультимедиа', 'profarea_id': '15', 'profarea_name': 'Начало карьеры, студенты'}]\",\n",
       " \"[{'id': '17.242', 'name': 'Прямые продажи', 'profarea_id': '17', 'profarea_name': 'Продажи'}, {'id': '17.149', 'name': 'Менеджер по работе с клиентами', 'profarea_id': '17', 'profarea_name': 'Продажи'}, {'id': '17.183', 'name': 'Начальный уровень, Мало опыта', 'profarea_id': '17', 'profarea_name': 'Продажи'}, {'id': '20.20', 'name': 'Агент', 'profarea_id': '20', 'profarea_name': 'Строительство, недвижимость'}, {'id': '12.376', 'name': 'Недвижимость', 'profarea_id': '12', 'profarea_name': 'Консультирование'}]\",\n",
       " \"[{'id': '1.172', 'name': 'Начальный уровень, Мало опыта', 'profarea_id': '1', 'profarea_name': 'Информационные технологии, интернет, телеком'}, {'id': '1.221', 'name': 'Программирование, Разработка', 'profarea_id': '1', 'profarea_name': 'Информационные технологии, интернет, телеком'}, {'id': '1.272', 'name': 'Системная интеграция', 'profarea_id': '1', 'profarea_name': 'Информационные технологии, интернет, телеком'}, {'id': '1.113', 'name': 'Консалтинг, Аутсорсинг', 'profarea_id': '1', 'profarea_name': 'Информационные технологии, интернет, телеком'}, {'id': '1.25', 'name': 'Аналитик', 'profarea_id': '1', 'profarea_name': 'Информационные технологии, интернет, телеком'}]\")"
      ]
     },
     "execution_count": 23,
     "metadata": {},
     "output_type": "execute_result"
    }
   ],
   "source": [
    "# выведем записи 0, 10, 30\n",
    "ds['specializations'][0], ds['specializations'][10], ds['specializations'][30]"
   ]
  },
  {
   "cell_type": "markdown",
   "metadata": {},
   "source": [
    "**Видим, что каждая запись имеет структуру в виде списка словарей, в каждом из которых по ключу `profarea_name` лежит название специализации (сферы деятельности). Почистим записи, оставим только перечисленные через символ `^` сферы деятельности. Выведем для примера первые 10 записей:**"
   ]
  },
  {
   "cell_type": "code",
   "execution_count": 24,
   "metadata": {},
   "outputs": [
    {
     "name": "stdout",
     "output_type": "stream",
     "text": [
      "Информационные технологии, интернет, телеком^Начало карьеры, студенты\n",
      "Информационные технологии, интернет, телеком\n",
      "Информационные технологии, интернет, телеком\n",
      "Информационные технологии, интернет, телеком\n",
      "Информационные технологии, интернет, телеком\n",
      "Маркетинг, реклама, PR\n",
      "Высший менеджмент^Информационные технологии, интернет, телеком\n",
      "Информационные технологии, интернет, телеком^Консультирование\n",
      "Консультирование^Продажи^Строительство, недвижимость\n",
      "Консультирование^Продажи^Строительство, недвижимость\n"
     ]
    }
   ],
   "source": [
    "# функция возвращает значения specializations по ключу profarea_name, склеенные через символ `^`\n",
    "def get_profarea(specializations):\n",
    "    # разделяем строку по нужному ключу, нулевой элемент списка выкидываем\n",
    "    spec_list = specializations.split(\"'profarea_name': '\")[1:]\n",
    "    # удаляем все лишнее из каждого элемента списка\n",
    "    spec_list = [spec.split(\"'\")[0] for spec in spec_list]\n",
    "    # удаляем дубликаты, сортируем, объединяем список в строку и возвращаем строку\n",
    "    return '^'.join(sorted(list(set(spec_list))))\n",
    "\n",
    "# выведем для примера первые 10 почищенных записей со специализациями (сферами деятельности)\n",
    "for i in range(10):\n",
    "    spec_string = ds['specializations'][i]\n",
    "    print(get_profarea(spec_string))"
   ]
  },
  {
   "cell_type": "code",
   "execution_count": 25,
   "metadata": {},
   "outputs": [
    {
     "data": {
      "text/plain": [
       "('Информационные технологии, интернет, телеком^Начало карьеры, студенты',\n",
       " 'Консультирование^Продажи^Строительство, недвижимость',\n",
       " 'Информационные технологии, интернет, телеком')"
      ]
     },
     "execution_count": 25,
     "metadata": {},
     "output_type": "execute_result"
    }
   ],
   "source": [
    "# заменим колонку\n",
    "ds['specializations'] = ds['specializations'].apply(get_profarea)\n",
    "\n",
    "# проверим работу функции, выведем, те же записи: 0, 10, 30\n",
    "ds['specializations'][0], ds['specializations'][10], ds['specializations'][30]"
   ]
  },
  {
   "cell_type": "markdown",
   "metadata": {},
   "source": [
    "**Видим, что очень много сфер деятельности связано с Информационными технологиями, интернетом, телекомом. Объединим и назовем для краткости эту сферу IT**"
   ]
  },
  {
   "cell_type": "code",
   "execution_count": 26,
   "metadata": {},
   "outputs": [],
   "source": [
    "def get_infotech(specializations):\n",
    "    return 'IT-сфера' if 'Информационные технологии' in specializations else 'Другая область (не IT)'\n",
    "\n",
    "ds['it'] = ds['specializations'].apply(get_infotech)"
   ]
  },
  {
   "cell_type": "code",
   "execution_count": 27,
   "metadata": {},
   "outputs": [
    {
     "data": {
      "text/html": [
       "<div>\n",
       "<style scoped>\n",
       "    .dataframe tbody tr th:only-of-type {\n",
       "        vertical-align: middle;\n",
       "    }\n",
       "\n",
       "    .dataframe tbody tr th {\n",
       "        vertical-align: top;\n",
       "    }\n",
       "\n",
       "    .dataframe thead th {\n",
       "        text-align: right;\n",
       "    }\n",
       "</style>\n",
       "<table border=\"1\" class=\"dataframe\">\n",
       "  <thead>\n",
       "    <tr style=\"text-align: right;\">\n",
       "      <th></th>\n",
       "      <th>id</th>\n",
       "      <th>name</th>\n",
       "      <th>city</th>\n",
       "      <th>salary</th>\n",
       "      <th>employer</th>\n",
       "      <th>schedule</th>\n",
       "      <th>experience</th>\n",
       "      <th>key_skills</th>\n",
       "      <th>specializations</th>\n",
       "      <th>region</th>\n",
       "      <th>it</th>\n",
       "    </tr>\n",
       "  </thead>\n",
       "  <tbody>\n",
       "    <tr>\n",
       "      <th>0</th>\n",
       "      <td>49059633</td>\n",
       "      <td>Младший специалист ручного тестирования</td>\n",
       "      <td>Астрахань</td>\n",
       "      <td>NaN</td>\n",
       "      <td>{'id': '1740', 'name': 'Яндекс', 'url': 'https...</td>\n",
       "      <td>{'id': 'remote', 'name': 'Удаленная работа'}</td>\n",
       "      <td>{'id': 'noExperience', 'name': 'Нет опыта'}</td>\n",
       "      <td></td>\n",
       "      <td>Информационные технологии, интернет, телеком^Н...</td>\n",
       "      <td>Астраханская область</td>\n",
       "      <td>IT-сфера</td>\n",
       "    </tr>\n",
       "    <tr>\n",
       "      <th>1</th>\n",
       "      <td>54252278</td>\n",
       "      <td>Пентестер</td>\n",
       "      <td>Астрахань</td>\n",
       "      <td>NaN</td>\n",
       "      <td>{'id': '719820', 'name': 'SearchInform', 'url'...</td>\n",
       "      <td>{'id': 'fullDay', 'name': 'Полный день'}</td>\n",
       "      <td>{'id': 'between3And6', 'name': 'От 3 до 6 лет'}</td>\n",
       "      <td>SQL^Linux^Информационная безопасность^Работа с...</td>\n",
       "      <td>Информационные технологии, интернет, телеком</td>\n",
       "      <td>Астраханская область</td>\n",
       "      <td>IT-сфера</td>\n",
       "    </tr>\n",
       "  </tbody>\n",
       "</table>\n",
       "</div>"
      ],
      "text/plain": [
       "         id                                     name       city salary  \\\n",
       "0  49059633  Младший специалист ручного тестирования  Астрахань    NaN   \n",
       "1  54252278                                Пентестер  Астрахань    NaN   \n",
       "\n",
       "                                            employer  \\\n",
       "0  {'id': '1740', 'name': 'Яндекс', 'url': 'https...   \n",
       "1  {'id': '719820', 'name': 'SearchInform', 'url'...   \n",
       "\n",
       "                                       schedule  \\\n",
       "0  {'id': 'remote', 'name': 'Удаленная работа'}   \n",
       "1      {'id': 'fullDay', 'name': 'Полный день'}   \n",
       "\n",
       "                                        experience  \\\n",
       "0      {'id': 'noExperience', 'name': 'Нет опыта'}   \n",
       "1  {'id': 'between3And6', 'name': 'От 3 до 6 лет'}   \n",
       "\n",
       "                                          key_skills  \\\n",
       "0                                                      \n",
       "1  SQL^Linux^Информационная безопасность^Работа с...   \n",
       "\n",
       "                                     specializations                region  \\\n",
       "0  Информационные технологии, интернет, телеком^Н...  Астраханская область   \n",
       "1       Информационные технологии, интернет, телеком  Астраханская область   \n",
       "\n",
       "         it  \n",
       "0  IT-сфера  \n",
       "1  IT-сфера  "
      ]
     },
     "execution_count": 27,
     "metadata": {},
     "output_type": "execute_result"
    }
   ],
   "source": [
    "ds.head(2)"
   ]
  },
  {
   "cell_type": "markdown",
   "metadata": {},
   "source": [
    "---"
   ]
  },
  {
   "cell_type": "markdown",
   "metadata": {},
   "source": [
    "## **6. Обработка колонки `experience`**"
   ]
  },
  {
   "cell_type": "code",
   "execution_count": 28,
   "metadata": {},
   "outputs": [
    {
     "data": {
      "text/plain": [
       "(\"{'id': 'noExperience', 'name': 'Нет опыта'}\",\n",
       " \"{'id': 'between1And3', 'name': 'От 1 года до 3 лет'}\",\n",
       " \"{'id': 'between3And6', 'name': 'От 3 до 6 лет'}\",\n",
       " \"{'id': 'between3And6', 'name': 'От 3 до 6 лет'}\")"
      ]
     },
     "execution_count": 28,
     "metadata": {},
     "output_type": "execute_result"
    }
   ],
   "source": [
    "# выведем, например, записи: 0, 4, 1, 171\n",
    "ds['experience'][0], ds['experience'][4], ds['experience'][1], ds['experience'][171]"
   ]
  },
  {
   "cell_type": "code",
   "execution_count": 29,
   "metadata": {},
   "outputs": [],
   "source": [
    "# функция возвращает значения experience по ключу name\n",
    "def get_exp(experience):\n",
    "    experience = experience.replace(\"'\", '\"')\n",
    "    return json.loads(experience)['name']"
   ]
  },
  {
   "cell_type": "code",
   "execution_count": 30,
   "metadata": {},
   "outputs": [
    {
     "data": {
      "text/plain": [
       "('Нет опыта', 'От 1 года до 3 лет', 'От 3 до 6 лет', 'От 3 до 6 лет')"
      ]
     },
     "execution_count": 30,
     "metadata": {},
     "output_type": "execute_result"
    }
   ],
   "source": [
    "# заменим колонку\n",
    "ds['experience'] = ds['experience'].apply(get_exp)\n",
    "\n",
    "# проверим работу функции, выведем те же записи: 0, 4, 1, 171\n",
    "ds['experience'][0], ds['experience'][4], ds['experience'][1], ds['experience'][171]"
   ]
  },
  {
   "cell_type": "code",
   "execution_count": 31,
   "metadata": {},
   "outputs": [
    {
     "data": {
      "text/html": [
       "<div>\n",
       "<style scoped>\n",
       "    .dataframe tbody tr th:only-of-type {\n",
       "        vertical-align: middle;\n",
       "    }\n",
       "\n",
       "    .dataframe tbody tr th {\n",
       "        vertical-align: top;\n",
       "    }\n",
       "\n",
       "    .dataframe thead th {\n",
       "        text-align: right;\n",
       "    }\n",
       "</style>\n",
       "<table border=\"1\" class=\"dataframe\">\n",
       "  <thead>\n",
       "    <tr style=\"text-align: right;\">\n",
       "      <th></th>\n",
       "      <th>id</th>\n",
       "      <th>name</th>\n",
       "      <th>city</th>\n",
       "      <th>salary</th>\n",
       "      <th>employer</th>\n",
       "      <th>schedule</th>\n",
       "      <th>experience</th>\n",
       "      <th>key_skills</th>\n",
       "      <th>specializations</th>\n",
       "      <th>region</th>\n",
       "      <th>it</th>\n",
       "    </tr>\n",
       "  </thead>\n",
       "  <tbody>\n",
       "    <tr>\n",
       "      <th>0</th>\n",
       "      <td>49059633</td>\n",
       "      <td>Младший специалист ручного тестирования</td>\n",
       "      <td>Астрахань</td>\n",
       "      <td>NaN</td>\n",
       "      <td>{'id': '1740', 'name': 'Яндекс', 'url': 'https...</td>\n",
       "      <td>{'id': 'remote', 'name': 'Удаленная работа'}</td>\n",
       "      <td>Нет опыта</td>\n",
       "      <td></td>\n",
       "      <td>Информационные технологии, интернет, телеком^Н...</td>\n",
       "      <td>Астраханская область</td>\n",
       "      <td>IT-сфера</td>\n",
       "    </tr>\n",
       "    <tr>\n",
       "      <th>1</th>\n",
       "      <td>54252278</td>\n",
       "      <td>Пентестер</td>\n",
       "      <td>Астрахань</td>\n",
       "      <td>NaN</td>\n",
       "      <td>{'id': '719820', 'name': 'SearchInform', 'url'...</td>\n",
       "      <td>{'id': 'fullDay', 'name': 'Полный день'}</td>\n",
       "      <td>От 3 до 6 лет</td>\n",
       "      <td>SQL^Linux^Информационная безопасность^Работа с...</td>\n",
       "      <td>Информационные технологии, интернет, телеком</td>\n",
       "      <td>Астраханская область</td>\n",
       "      <td>IT-сфера</td>\n",
       "    </tr>\n",
       "  </tbody>\n",
       "</table>\n",
       "</div>"
      ],
      "text/plain": [
       "         id                                     name       city salary  \\\n",
       "0  49059633  Младший специалист ручного тестирования  Астрахань    NaN   \n",
       "1  54252278                                Пентестер  Астрахань    NaN   \n",
       "\n",
       "                                            employer  \\\n",
       "0  {'id': '1740', 'name': 'Яндекс', 'url': 'https...   \n",
       "1  {'id': '719820', 'name': 'SearchInform', 'url'...   \n",
       "\n",
       "                                       schedule     experience  \\\n",
       "0  {'id': 'remote', 'name': 'Удаленная работа'}      Нет опыта   \n",
       "1      {'id': 'fullDay', 'name': 'Полный день'}  От 3 до 6 лет   \n",
       "\n",
       "                                          key_skills  \\\n",
       "0                                                      \n",
       "1  SQL^Linux^Информационная безопасность^Работа с...   \n",
       "\n",
       "                                     specializations                region  \\\n",
       "0  Информационные технологии, интернет, телеком^Н...  Астраханская область   \n",
       "1       Информационные технологии, интернет, телеком  Астраханская область   \n",
       "\n",
       "         it  \n",
       "0  IT-сфера  \n",
       "1  IT-сфера  "
      ]
     },
     "execution_count": 31,
     "metadata": {},
     "output_type": "execute_result"
    }
   ],
   "source": [
    "ds.head(2)"
   ]
  },
  {
   "cell_type": "markdown",
   "metadata": {},
   "source": [
    "---"
   ]
  },
  {
   "cell_type": "markdown",
   "metadata": {},
   "source": [
    "## **7. Обработка колонки `schedule`**"
   ]
  },
  {
   "cell_type": "code",
   "execution_count": 32,
   "metadata": {},
   "outputs": [
    {
     "data": {
      "text/plain": [
       "(\"{'id': 'remote', 'name': 'Удаленная работа'}\",\n",
       " \"{'id': 'fullDay', 'name': 'Полный день'}\")"
      ]
     },
     "execution_count": 32,
     "metadata": {},
     "output_type": "execute_result"
    }
   ],
   "source": [
    "# выведем, например, записи: 0, 1\n",
    "ds['schedule'][0], ds['schedule'][1]"
   ]
  },
  {
   "cell_type": "code",
   "execution_count": 33,
   "metadata": {},
   "outputs": [],
   "source": [
    "# функция возвращает значения schedule по ключу name\n",
    "def get_schedule(schedule):\n",
    "    schedule = schedule.replace(\"'\", '\"')\n",
    "    return json.loads(schedule)['name']"
   ]
  },
  {
   "cell_type": "code",
   "execution_count": 34,
   "metadata": {},
   "outputs": [
    {
     "data": {
      "text/plain": [
       "('Удаленная работа', 'Полный день')"
      ]
     },
     "execution_count": 34,
     "metadata": {},
     "output_type": "execute_result"
    }
   ],
   "source": [
    "# заменим колонку\n",
    "ds['schedule'] = ds['schedule'].apply(get_schedule)\n",
    "\n",
    "# проверим работу функции, выведем те же записи: 0, 1\n",
    "ds['schedule'][0], ds['schedule'][1]"
   ]
  },
  {
   "cell_type": "code",
   "execution_count": 35,
   "metadata": {},
   "outputs": [
    {
     "data": {
      "text/html": [
       "<div>\n",
       "<style scoped>\n",
       "    .dataframe tbody tr th:only-of-type {\n",
       "        vertical-align: middle;\n",
       "    }\n",
       "\n",
       "    .dataframe tbody tr th {\n",
       "        vertical-align: top;\n",
       "    }\n",
       "\n",
       "    .dataframe thead th {\n",
       "        text-align: right;\n",
       "    }\n",
       "</style>\n",
       "<table border=\"1\" class=\"dataframe\">\n",
       "  <thead>\n",
       "    <tr style=\"text-align: right;\">\n",
       "      <th></th>\n",
       "      <th>id</th>\n",
       "      <th>name</th>\n",
       "      <th>city</th>\n",
       "      <th>salary</th>\n",
       "      <th>employer</th>\n",
       "      <th>schedule</th>\n",
       "      <th>experience</th>\n",
       "      <th>key_skills</th>\n",
       "      <th>specializations</th>\n",
       "      <th>region</th>\n",
       "      <th>it</th>\n",
       "    </tr>\n",
       "  </thead>\n",
       "  <tbody>\n",
       "    <tr>\n",
       "      <th>0</th>\n",
       "      <td>49059633</td>\n",
       "      <td>Младший специалист ручного тестирования</td>\n",
       "      <td>Астрахань</td>\n",
       "      <td>NaN</td>\n",
       "      <td>{'id': '1740', 'name': 'Яндекс', 'url': 'https...</td>\n",
       "      <td>Удаленная работа</td>\n",
       "      <td>Нет опыта</td>\n",
       "      <td></td>\n",
       "      <td>Информационные технологии, интернет, телеком^Н...</td>\n",
       "      <td>Астраханская область</td>\n",
       "      <td>IT-сфера</td>\n",
       "    </tr>\n",
       "    <tr>\n",
       "      <th>1</th>\n",
       "      <td>54252278</td>\n",
       "      <td>Пентестер</td>\n",
       "      <td>Астрахань</td>\n",
       "      <td>NaN</td>\n",
       "      <td>{'id': '719820', 'name': 'SearchInform', 'url'...</td>\n",
       "      <td>Полный день</td>\n",
       "      <td>От 3 до 6 лет</td>\n",
       "      <td>SQL^Linux^Информационная безопасность^Работа с...</td>\n",
       "      <td>Информационные технологии, интернет, телеком</td>\n",
       "      <td>Астраханская область</td>\n",
       "      <td>IT-сфера</td>\n",
       "    </tr>\n",
       "  </tbody>\n",
       "</table>\n",
       "</div>"
      ],
      "text/plain": [
       "         id                                     name       city salary  \\\n",
       "0  49059633  Младший специалист ручного тестирования  Астрахань    NaN   \n",
       "1  54252278                                Пентестер  Астрахань    NaN   \n",
       "\n",
       "                                            employer          schedule  \\\n",
       "0  {'id': '1740', 'name': 'Яндекс', 'url': 'https...  Удаленная работа   \n",
       "1  {'id': '719820', 'name': 'SearchInform', 'url'...       Полный день   \n",
       "\n",
       "      experience                                         key_skills  \\\n",
       "0      Нет опыта                                                      \n",
       "1  От 3 до 6 лет  SQL^Linux^Информационная безопасность^Работа с...   \n",
       "\n",
       "                                     specializations                region  \\\n",
       "0  Информационные технологии, интернет, телеком^Н...  Астраханская область   \n",
       "1       Информационные технологии, интернет, телеком  Астраханская область   \n",
       "\n",
       "         it  \n",
       "0  IT-сфера  \n",
       "1  IT-сфера  "
      ]
     },
     "execution_count": 35,
     "metadata": {},
     "output_type": "execute_result"
    }
   ],
   "source": [
    "ds.head(2)"
   ]
  },
  {
   "cell_type": "markdown",
   "metadata": {},
   "source": [
    "---"
   ]
  },
  {
   "cell_type": "markdown",
   "metadata": {},
   "source": [
    "## **8. Обработка колонки `employer`**"
   ]
  },
  {
   "cell_type": "code",
   "execution_count": 36,
   "metadata": {},
   "outputs": [
    {
     "data": {
      "text/plain": [
       "(\"{'id': '1740', 'name': 'Яндекс', 'url': 'https://api.hh.ru/employers/1740', 'alternate_url': 'https://hh.ru/employer/1740', 'logo_urls': {'90': 'https://hhcdn.ru/employer-logo/3790847.png', '240': 'https://hhcdn.ru/employer-logo/3790848.png', 'original': 'https://hhcdn.ru/employer-logo-original/837491.png'}, 'vacancies_url': 'https://api.hh.ru/vacancies?employer_id=1740', 'trusted': True}\",\n",
       " \"{'id': '719820', 'name': 'SearchInform', 'url': 'https://api.hh.ru/employers/719820', 'alternate_url': 'https://hh.ru/employer/719820', 'logo_urls': {'original': 'https://hhcdn.ru/employer-logo-original/940031.png', '240': 'https://hhcdn.ru/employer-logo/4200669.png', '90': 'https://hhcdn.ru/employer-logo/4200668.png'}, 'vacancies_url': 'https://api.hh.ru/vacancies?employer_id=719820', 'trusted': True}\")"
      ]
     },
     "execution_count": 36,
     "metadata": {},
     "output_type": "execute_result"
    }
   ],
   "source": [
    "# выведем, например, записи: 0, 1\n",
    "ds['employer'][0], ds['employer'][1]"
   ]
  },
  {
   "cell_type": "code",
   "execution_count": 37,
   "metadata": {},
   "outputs": [],
   "source": [
    "# функция возвращает значения employer по ключу name\n",
    "def get_employer(employer):\n",
    "    employer = employer.replace('\"', \"'\")\n",
    "    return employer.split(\"name': '\")[1].split(\"',\")[0]"
   ]
  },
  {
   "cell_type": "code",
   "execution_count": 38,
   "metadata": {},
   "outputs": [
    {
     "data": {
      "text/plain": [
       "('Яндекс', 'SearchInform')"
      ]
     },
     "execution_count": 38,
     "metadata": {},
     "output_type": "execute_result"
    }
   ],
   "source": [
    "# заменим колонку\n",
    "ds['employer'] = ds['employer'].apply(get_employer)\n",
    "\n",
    "# проверим работу функции, выведем те же записи: 0, 1\n",
    "ds['employer'][0], ds['employer'][1]"
   ]
  },
  {
   "cell_type": "code",
   "execution_count": 39,
   "metadata": {},
   "outputs": [
    {
     "data": {
      "text/html": [
       "<div>\n",
       "<style scoped>\n",
       "    .dataframe tbody tr th:only-of-type {\n",
       "        vertical-align: middle;\n",
       "    }\n",
       "\n",
       "    .dataframe tbody tr th {\n",
       "        vertical-align: top;\n",
       "    }\n",
       "\n",
       "    .dataframe thead th {\n",
       "        text-align: right;\n",
       "    }\n",
       "</style>\n",
       "<table border=\"1\" class=\"dataframe\">\n",
       "  <thead>\n",
       "    <tr style=\"text-align: right;\">\n",
       "      <th></th>\n",
       "      <th>id</th>\n",
       "      <th>name</th>\n",
       "      <th>city</th>\n",
       "      <th>salary</th>\n",
       "      <th>employer</th>\n",
       "      <th>schedule</th>\n",
       "      <th>experience</th>\n",
       "      <th>key_skills</th>\n",
       "      <th>specializations</th>\n",
       "      <th>region</th>\n",
       "      <th>it</th>\n",
       "    </tr>\n",
       "  </thead>\n",
       "  <tbody>\n",
       "    <tr>\n",
       "      <th>0</th>\n",
       "      <td>49059633</td>\n",
       "      <td>Младший специалист ручного тестирования</td>\n",
       "      <td>Астрахань</td>\n",
       "      <td>NaN</td>\n",
       "      <td>Яндекс</td>\n",
       "      <td>Удаленная работа</td>\n",
       "      <td>Нет опыта</td>\n",
       "      <td></td>\n",
       "      <td>Информационные технологии, интернет, телеком^Н...</td>\n",
       "      <td>Астраханская область</td>\n",
       "      <td>IT-сфера</td>\n",
       "    </tr>\n",
       "    <tr>\n",
       "      <th>1</th>\n",
       "      <td>54252278</td>\n",
       "      <td>Пентестер</td>\n",
       "      <td>Астрахань</td>\n",
       "      <td>NaN</td>\n",
       "      <td>SearchInform</td>\n",
       "      <td>Полный день</td>\n",
       "      <td>От 3 до 6 лет</td>\n",
       "      <td>SQL^Linux^Информационная безопасность^Работа с...</td>\n",
       "      <td>Информационные технологии, интернет, телеком</td>\n",
       "      <td>Астраханская область</td>\n",
       "      <td>IT-сфера</td>\n",
       "    </tr>\n",
       "    <tr>\n",
       "      <th>2</th>\n",
       "      <td>54428119</td>\n",
       "      <td>Асессор-тестировщик</td>\n",
       "      <td>Астрахань</td>\n",
       "      <td>NaN</td>\n",
       "      <td>Яндекс</td>\n",
       "      <td>Удаленная работа</td>\n",
       "      <td>Нет опыта</td>\n",
       "      <td></td>\n",
       "      <td>Информационные технологии, интернет, телеком</td>\n",
       "      <td>Астраханская область</td>\n",
       "      <td>IT-сфера</td>\n",
       "    </tr>\n",
       "    <tr>\n",
       "      <th>3</th>\n",
       "      <td>54429041</td>\n",
       "      <td>Тестировщик (асессор)</td>\n",
       "      <td>Астрахань</td>\n",
       "      <td>NaN</td>\n",
       "      <td>Яндекс</td>\n",
       "      <td>Удаленная работа</td>\n",
       "      <td>Нет опыта</td>\n",
       "      <td></td>\n",
       "      <td>Информационные технологии, интернет, телеком</td>\n",
       "      <td>Астраханская область</td>\n",
       "      <td>IT-сфера</td>\n",
       "    </tr>\n",
       "    <tr>\n",
       "      <th>4</th>\n",
       "      <td>54653519</td>\n",
       "      <td>Тестировщик.Net</td>\n",
       "      <td>Астрахань</td>\n",
       "      <td>{'from': 25000, 'to': 50000, 'currency': 'RUR'...</td>\n",
       "      <td>МФК Саммит</td>\n",
       "      <td>Полный день</td>\n",
       "      <td>От 1 года до 3 лет</td>\n",
       "      <td>Git^SQL^Тестирование^C#^API</td>\n",
       "      <td>Информационные технологии, интернет, телеком</td>\n",
       "      <td>Астраханская область</td>\n",
       "      <td>IT-сфера</td>\n",
       "    </tr>\n",
       "    <tr>\n",
       "      <th>5</th>\n",
       "      <td>53099198</td>\n",
       "      <td>SMM-копирайтер</td>\n",
       "      <td>Астрахань</td>\n",
       "      <td>{'from': 45000, 'to': 45000, 'currency': 'RUR'...</td>\n",
       "      <td>Комплекс-А</td>\n",
       "      <td>Полный день</td>\n",
       "      <td>От 3 до 6 лет</td>\n",
       "      <td>Медиапланирование^Интернет-реклама^Реклама^PR^...</td>\n",
       "      <td>Маркетинг, реклама, PR</td>\n",
       "      <td>Астраханская область</td>\n",
       "      <td>Другая область (не IT)</td>\n",
       "    </tr>\n",
       "  </tbody>\n",
       "</table>\n",
       "</div>"
      ],
      "text/plain": [
       "         id                                     name       city  \\\n",
       "0  49059633  Младший специалист ручного тестирования  Астрахань   \n",
       "1  54252278                                Пентестер  Астрахань   \n",
       "2  54428119                      Асессор-тестировщик  Астрахань   \n",
       "3  54429041                    Тестировщик (асессор)  Астрахань   \n",
       "4  54653519                          Тестировщик.Net  Астрахань   \n",
       "5  53099198                           SMM-копирайтер  Астрахань   \n",
       "\n",
       "                                              salary      employer  \\\n",
       "0                                                NaN        Яндекс   \n",
       "1                                                NaN  SearchInform   \n",
       "2                                                NaN        Яндекс   \n",
       "3                                                NaN        Яндекс   \n",
       "4  {'from': 25000, 'to': 50000, 'currency': 'RUR'...    МФК Саммит   \n",
       "5  {'from': 45000, 'to': 45000, 'currency': 'RUR'...    Комплекс-А   \n",
       "\n",
       "           schedule          experience  \\\n",
       "0  Удаленная работа           Нет опыта   \n",
       "1       Полный день       От 3 до 6 лет   \n",
       "2  Удаленная работа           Нет опыта   \n",
       "3  Удаленная работа           Нет опыта   \n",
       "4       Полный день  От 1 года до 3 лет   \n",
       "5       Полный день       От 3 до 6 лет   \n",
       "\n",
       "                                          key_skills  \\\n",
       "0                                                      \n",
       "1  SQL^Linux^Информационная безопасность^Работа с...   \n",
       "2                                                      \n",
       "3                                                      \n",
       "4                        Git^SQL^Тестирование^C#^API   \n",
       "5  Медиапланирование^Интернет-реклама^Реклама^PR^...   \n",
       "\n",
       "                                     specializations                region  \\\n",
       "0  Информационные технологии, интернет, телеком^Н...  Астраханская область   \n",
       "1       Информационные технологии, интернет, телеком  Астраханская область   \n",
       "2       Информационные технологии, интернет, телеком  Астраханская область   \n",
       "3       Информационные технологии, интернет, телеком  Астраханская область   \n",
       "4       Информационные технологии, интернет, телеком  Астраханская область   \n",
       "5                             Маркетинг, реклама, PR  Астраханская область   \n",
       "\n",
       "                       it  \n",
       "0                IT-сфера  \n",
       "1                IT-сфера  \n",
       "2                IT-сфера  \n",
       "3                IT-сфера  \n",
       "4                IT-сфера  \n",
       "5  Другая область (не IT)  "
      ]
     },
     "execution_count": 39,
     "metadata": {},
     "output_type": "execute_result"
    }
   ],
   "source": [
    "ds.head(6)"
   ]
  },
  {
   "cell_type": "markdown",
   "metadata": {},
   "source": [
    "---"
   ]
  },
  {
   "cell_type": "markdown",
   "metadata": {},
   "source": [
    "## **9. Обработка колонки `salary`**"
   ]
  },
  {
   "cell_type": "code",
   "execution_count": 40,
   "metadata": {},
   "outputs": [
    {
     "data": {
      "text/plain": [
       "{'from': 25000, 'to': 50000, 'currency': 'RUR', 'gross': True}"
      ]
     },
     "execution_count": 40,
     "metadata": {},
     "output_type": "execute_result"
    }
   ],
   "source": [
    "# функция преобразования строчного формата записи salary в питоновский словарь. Возвращает словарь\n",
    "def get_salary_dict(salary):\n",
    "    salary = salary.replace(\"'\", '\"')\n",
    "    salary = salary.replace('True', 'true')\n",
    "    salary = salary.replace('False', 'false')\n",
    "    salary = salary.replace('None', 'false')\n",
    "    return json.loads(salary)\n",
    "\n",
    "# проверим работу функции, выведем получившийся словарь, например, для 4-й записи колонки salary\n",
    "get_salary_dict(ds['salary'][4])"
   ]
  },
  {
   "cell_type": "markdown",
   "metadata": {},
   "source": [
    "**Cоздадим теперь 2 колонки: с минимальной и максимальной зарплатой (`'min_salary'` и `'max_salary'`, соответственно). Учитываем только зарплату в рублях. Все зарплаты приводим к значениям \"суммы на руки\", (т.е. после вычета налогов): если зарплата указана gross (до вычета налогов), то вычтем из нее 13% НДФЛ**"
   ]
  },
  {
   "cell_type": "code",
   "execution_count": 41,
   "metadata": {},
   "outputs": [],
   "source": [
    "# функция возвращает минимальную или максимальную зарплату, в зависимости от параметра from_to\n",
    "def get_salary(salary, from_to):\n",
    "    if salary is NaN:\n",
    "        return NaN\n",
    "    else:\n",
    "        salary_dct = get_salary_dict(salary)\n",
    "        if salary_dct['currency'] != 'RUR' or not salary_dct[from_to]:\n",
    "            return NaN\n",
    "        result = float(salary_dct[from_to])\n",
    "        if salary_dct['gross']:\n",
    "            result = result * 0.87\n",
    "        return result\n",
    "\n",
    "# функция возвращает минимальную зарплату (параметр from_to = 'from')\n",
    "def get_min_salary(salary):\n",
    "    return get_salary(salary, 'from')\n",
    "\n",
    "# функция возвращает максимальную зарплату (параметр from_to = 'to')\n",
    "def get_max_salary(salary):\n",
    "    return get_salary(salary, 'to')"
   ]
  },
  {
   "cell_type": "code",
   "execution_count": 42,
   "metadata": {},
   "outputs": [
    {
     "data": {
      "text/plain": [
       "(75994, 12)"
      ]
     },
     "execution_count": 42,
     "metadata": {},
     "output_type": "execute_result"
    }
   ],
   "source": [
    "# новые колонки\n",
    "ds['min_salary'] = ds['salary'].apply(get_min_salary)\n",
    "ds['max_salary'] = ds['salary'].apply(get_max_salary)\n",
    "\n",
    "# колонку salary удалим\n",
    "ds = ds.drop('salary', axis=1)\n",
    "ds.shape"
   ]
  },
  {
   "cell_type": "markdown",
   "metadata": {},
   "source": [
    "**Удалим записи с совсем маленькими зарплатами:**"
   ]
  },
  {
   "cell_type": "code",
   "execution_count": 43,
   "metadata": {},
   "outputs": [
    {
     "data": {
      "text/plain": [
       "(75937, 12)"
      ]
     },
     "execution_count": 43,
     "metadata": {},
     "output_type": "execute_result"
    }
   ],
   "source": [
    "# удалим записи, где min_salary < 5000\n",
    "ds = ds[(ds['min_salary'] >= 5000) | (ds['min_salary'].isna())]\n",
    "ds.shape"
   ]
  },
  {
   "cell_type": "code",
   "execution_count": 44,
   "metadata": {},
   "outputs": [
    {
     "data": {
      "text/plain": [
       "(75933, 12)"
      ]
     },
     "execution_count": 44,
     "metadata": {},
     "output_type": "execute_result"
    }
   ],
   "source": [
    "# удалим записи, где max_salary < 5000\n",
    "ds = ds[(ds['max_salary'] >= 5000) | (ds['max_salary'].isna())]\n",
    "ds.shape"
   ]
  },
  {
   "cell_type": "markdown",
   "metadata": {},
   "source": [
    "**Итоговый результат:**"
   ]
  },
  {
   "cell_type": "code",
   "execution_count": 45,
   "metadata": {},
   "outputs": [
    {
     "name": "stdout",
     "output_type": "stream",
     "text": [
      "<class 'pandas.core.frame.DataFrame'>\n",
      "Int64Index: 75933 entries, 0 to 75993\n",
      "Data columns (total 12 columns):\n",
      " #   Column           Non-Null Count  Dtype  \n",
      "---  ------           --------------  -----  \n",
      " 0   id               75933 non-null  int64  \n",
      " 1   name             75933 non-null  object \n",
      " 2   city             75933 non-null  object \n",
      " 3   employer         75933 non-null  object \n",
      " 4   schedule         75933 non-null  object \n",
      " 5   experience       75933 non-null  object \n",
      " 6   key_skills       75933 non-null  object \n",
      " 7   specializations  75933 non-null  object \n",
      " 8   region           75933 non-null  object \n",
      " 9   it               75933 non-null  object \n",
      " 10  min_salary       36375 non-null  float64\n",
      " 11  max_salary       21183 non-null  float64\n",
      "dtypes: float64(2), int64(1), object(9)\n",
      "memory usage: 7.5+ MB\n"
     ]
    }
   ],
   "source": [
    "ds.info()"
   ]
  },
  {
   "cell_type": "code",
   "execution_count": 46,
   "metadata": {},
   "outputs": [
    {
     "data": {
      "text/html": [
       "<div>\n",
       "<style scoped>\n",
       "    .dataframe tbody tr th:only-of-type {\n",
       "        vertical-align: middle;\n",
       "    }\n",
       "\n",
       "    .dataframe tbody tr th {\n",
       "        vertical-align: top;\n",
       "    }\n",
       "\n",
       "    .dataframe thead th {\n",
       "        text-align: right;\n",
       "    }\n",
       "</style>\n",
       "<table border=\"1\" class=\"dataframe\">\n",
       "  <thead>\n",
       "    <tr style=\"text-align: right;\">\n",
       "      <th></th>\n",
       "      <th>id</th>\n",
       "      <th>name</th>\n",
       "      <th>city</th>\n",
       "      <th>employer</th>\n",
       "      <th>schedule</th>\n",
       "      <th>experience</th>\n",
       "      <th>key_skills</th>\n",
       "      <th>specializations</th>\n",
       "      <th>region</th>\n",
       "      <th>it</th>\n",
       "      <th>min_salary</th>\n",
       "      <th>max_salary</th>\n",
       "    </tr>\n",
       "  </thead>\n",
       "  <tbody>\n",
       "    <tr>\n",
       "      <th>0</th>\n",
       "      <td>49059633</td>\n",
       "      <td>Младший специалист ручного тестирования</td>\n",
       "      <td>Астрахань</td>\n",
       "      <td>Яндекс</td>\n",
       "      <td>Удаленная работа</td>\n",
       "      <td>Нет опыта</td>\n",
       "      <td></td>\n",
       "      <td>Информационные технологии, интернет, телеком^Н...</td>\n",
       "      <td>Астраханская область</td>\n",
       "      <td>IT-сфера</td>\n",
       "      <td>NaN</td>\n",
       "      <td>NaN</td>\n",
       "    </tr>\n",
       "    <tr>\n",
       "      <th>1</th>\n",
       "      <td>54252278</td>\n",
       "      <td>Пентестер</td>\n",
       "      <td>Астрахань</td>\n",
       "      <td>SearchInform</td>\n",
       "      <td>Полный день</td>\n",
       "      <td>От 3 до 6 лет</td>\n",
       "      <td>SQL^Linux^Информационная безопасность^Работа с...</td>\n",
       "      <td>Информационные технологии, интернет, телеком</td>\n",
       "      <td>Астраханская область</td>\n",
       "      <td>IT-сфера</td>\n",
       "      <td>NaN</td>\n",
       "      <td>NaN</td>\n",
       "    </tr>\n",
       "    <tr>\n",
       "      <th>2</th>\n",
       "      <td>54428119</td>\n",
       "      <td>Асессор-тестировщик</td>\n",
       "      <td>Астрахань</td>\n",
       "      <td>Яндекс</td>\n",
       "      <td>Удаленная работа</td>\n",
       "      <td>Нет опыта</td>\n",
       "      <td></td>\n",
       "      <td>Информационные технологии, интернет, телеком</td>\n",
       "      <td>Астраханская область</td>\n",
       "      <td>IT-сфера</td>\n",
       "      <td>NaN</td>\n",
       "      <td>NaN</td>\n",
       "    </tr>\n",
       "    <tr>\n",
       "      <th>3</th>\n",
       "      <td>54429041</td>\n",
       "      <td>Тестировщик (асессор)</td>\n",
       "      <td>Астрахань</td>\n",
       "      <td>Яндекс</td>\n",
       "      <td>Удаленная работа</td>\n",
       "      <td>Нет опыта</td>\n",
       "      <td></td>\n",
       "      <td>Информационные технологии, интернет, телеком</td>\n",
       "      <td>Астраханская область</td>\n",
       "      <td>IT-сфера</td>\n",
       "      <td>NaN</td>\n",
       "      <td>NaN</td>\n",
       "    </tr>\n",
       "    <tr>\n",
       "      <th>4</th>\n",
       "      <td>54653519</td>\n",
       "      <td>Тестировщик.Net</td>\n",
       "      <td>Астрахань</td>\n",
       "      <td>МФК Саммит</td>\n",
       "      <td>Полный день</td>\n",
       "      <td>От 1 года до 3 лет</td>\n",
       "      <td>Git^SQL^Тестирование^C#^API</td>\n",
       "      <td>Информационные технологии, интернет, телеком</td>\n",
       "      <td>Астраханская область</td>\n",
       "      <td>IT-сфера</td>\n",
       "      <td>21750.0</td>\n",
       "      <td>43500.0</td>\n",
       "    </tr>\n",
       "    <tr>\n",
       "      <th>5</th>\n",
       "      <td>53099198</td>\n",
       "      <td>SMM-копирайтер</td>\n",
       "      <td>Астрахань</td>\n",
       "      <td>Комплекс-А</td>\n",
       "      <td>Полный день</td>\n",
       "      <td>От 3 до 6 лет</td>\n",
       "      <td>Медиапланирование^Интернет-реклама^Реклама^PR^...</td>\n",
       "      <td>Маркетинг, реклама, PR</td>\n",
       "      <td>Астраханская область</td>\n",
       "      <td>Другая область (не IT)</td>\n",
       "      <td>45000.0</td>\n",
       "      <td>45000.0</td>\n",
       "    </tr>\n",
       "  </tbody>\n",
       "</table>\n",
       "</div>"
      ],
      "text/plain": [
       "         id                                     name       city      employer  \\\n",
       "0  49059633  Младший специалист ручного тестирования  Астрахань        Яндекс   \n",
       "1  54252278                                Пентестер  Астрахань  SearchInform   \n",
       "2  54428119                      Асессор-тестировщик  Астрахань        Яндекс   \n",
       "3  54429041                    Тестировщик (асессор)  Астрахань        Яндекс   \n",
       "4  54653519                          Тестировщик.Net  Астрахань    МФК Саммит   \n",
       "5  53099198                           SMM-копирайтер  Астрахань    Комплекс-А   \n",
       "\n",
       "           schedule          experience  \\\n",
       "0  Удаленная работа           Нет опыта   \n",
       "1       Полный день       От 3 до 6 лет   \n",
       "2  Удаленная работа           Нет опыта   \n",
       "3  Удаленная работа           Нет опыта   \n",
       "4       Полный день  От 1 года до 3 лет   \n",
       "5       Полный день       От 3 до 6 лет   \n",
       "\n",
       "                                          key_skills  \\\n",
       "0                                                      \n",
       "1  SQL^Linux^Информационная безопасность^Работа с...   \n",
       "2                                                      \n",
       "3                                                      \n",
       "4                        Git^SQL^Тестирование^C#^API   \n",
       "5  Медиапланирование^Интернет-реклама^Реклама^PR^...   \n",
       "\n",
       "                                     specializations                region  \\\n",
       "0  Информационные технологии, интернет, телеком^Н...  Астраханская область   \n",
       "1       Информационные технологии, интернет, телеком  Астраханская область   \n",
       "2       Информационные технологии, интернет, телеком  Астраханская область   \n",
       "3       Информационные технологии, интернет, телеком  Астраханская область   \n",
       "4       Информационные технологии, интернет, телеком  Астраханская область   \n",
       "5                             Маркетинг, реклама, PR  Астраханская область   \n",
       "\n",
       "                       it  min_salary  max_salary  \n",
       "0                IT-сфера         NaN         NaN  \n",
       "1                IT-сфера         NaN         NaN  \n",
       "2                IT-сфера         NaN         NaN  \n",
       "3                IT-сфера         NaN         NaN  \n",
       "4                IT-сфера     21750.0     43500.0  \n",
       "5  Другая область (не IT)     45000.0     45000.0  "
      ]
     },
     "execution_count": 46,
     "metadata": {},
     "output_type": "execute_result"
    }
   ],
   "source": [
    "ds.head(6)"
   ]
  },
  {
   "cell_type": "markdown",
   "metadata": {},
   "source": [
    "---"
   ]
  },
  {
   "cell_type": "markdown",
   "metadata": {},
   "source": [
    "## **10. Запись итогового датасета в файл**"
   ]
  },
  {
   "cell_type": "code",
   "execution_count": 47,
   "metadata": {},
   "outputs": [],
   "source": [
    "# запись в файл\n",
    "ds.to_excel('vacancies.xlsx')"
   ]
  }
 ],
 "metadata": {
  "colab": {
   "authorship_tag": "ABX9TyMuFoXWulwboe2ibLw46oN/",
   "collapsed_sections": [],
   "provenance": [
    {
     "file_id": "1JQJ7zS2GU0XcrdOOSoWjD3ESa3EOfFhY",
     "timestamp": 1660988493620
    }
   ]
  },
  "kernelspec": {
   "display_name": "Python 3 (ipykernel)",
   "language": "python",
   "name": "python3"
  },
  "language_info": {
   "codemirror_mode": {
    "name": "ipython",
    "version": 3
   },
   "file_extension": ".py",
   "mimetype": "text/x-python",
   "name": "python",
   "nbconvert_exporter": "python",
   "pygments_lexer": "ipython3",
   "version": "3.9.5"
  }
 },
 "nbformat": 4,
 "nbformat_minor": 1
}
